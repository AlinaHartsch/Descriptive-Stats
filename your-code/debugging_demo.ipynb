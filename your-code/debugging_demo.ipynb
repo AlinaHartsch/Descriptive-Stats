{
 "cells": [
  {
   "cell_type": "code",
   "execution_count": 1,
   "metadata": {},
   "outputs": [
    {
     "name": "stdout",
     "output_type": "stream",
     "text": [
      "Number:  [91, 39, 18, 93, 50]\n",
      "The length of our numbers:  5\n",
      "The sum of our numbers:  291\n",
      "The average of our numbers:  58.2\n"
     ]
    }
   ],
   "source": [
    "## VSCode debugger demo\n",
    "import random\n",
    "def generate_number(n):\n",
    "    return random.sample(range(1,100), n)\n",
    "def get_length(n):\n",
    "    leng = len(n)\n",
    "    return leng\n",
    "def get_sum(n):\n",
    "    summ = 0\n",
    "    for i in n:\n",
    "        summ += i\n",
    "    return summ\n",
    "def average(n):\n",
    "    avg =  get_sum(n) / get_length(n)\n",
    "    return avg\n",
    "nums = generate_number(5)\n",
    "# a comment\n",
    "print('Number: ', nums)\n",
    "print('The length of our numbers: ', get_length(nums))\n",
    "print('The sum of our numbers: ', get_sum(nums))\n",
    "print('The average of our numbers: ', average(nums))"
   ]
  }
 ],
 "metadata": {
  "interpreter": {
   "hash": "fa76d0b9724d44910677c21ea7c6df5cde8559f64d007f15aed79ea400c5c324"
  },
  "kernelspec": {
   "display_name": "Python 3.10.4 ('projectsql')",
   "language": "python",
   "name": "python3"
  },
  "language_info": {
   "codemirror_mode": {
    "name": "ipython",
    "version": 3
   },
   "file_extension": ".py",
   "mimetype": "text/x-python",
   "name": "python",
   "nbconvert_exporter": "python",
   "pygments_lexer": "ipython3",
   "version": "3.10.4"
  },
  "orig_nbformat": 4
 },
 "nbformat": 4,
 "nbformat_minor": 2
}
